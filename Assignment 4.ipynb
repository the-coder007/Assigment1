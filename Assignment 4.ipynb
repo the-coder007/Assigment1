{
 "cells": [
  {
   "cell_type": "markdown",
   "id": "17f88b3b",
   "metadata": {},
   "source": [
    "#  Assignment"
   ]
  },
  {
   "cell_type": "markdown",
   "id": "a810f6d4",
   "metadata": {},
   "source": [
    "1. What exactly is []?\n",
    "2. In a list of values stored in a variable called spam, how would you assign the value 'hello' as the third value? (Assume [2, 4, 6, 8, 10] are in spam.)\n",
    "Let's pretend the spam includes the list ['a', 'b', 'c', 'd'] for the next three queries.\n",
    "3. What is the value of spam[int(int('3' * 2) / 11)]?\n",
    "4. What is the value of spam[-1]?\n",
    "5. What is the value of spam[:2]?\n",
    "Let's pretend bacon has the list [3.14, 'cat,' 11, 'cat,' True] for the next three questions.\n",
    "6. What is the value of bacon.index('cat')?\n",
    "7. How does bacon.append(99) change the look of the list value in bacon?\n",
    "8. How does bacon.remove('cat') change the look of the list in bacon?\n",
    "9. What are the list concatenation and list replication operators?\n",
    "10. What is difference between the list methods append() and insert()?\n",
    "11. What are the two methods for removing items from a list?\n",
    "12. Describe how list values and string values are identical.\n",
    "13. What's the difference between tuples and lists?\n",
    "14. How do you type a tuple value that only contains the integer 42?\n",
    "15. How do you get a list value's tuple form? How do you get a tuple value's list form?\n",
    "16. Variables that \"contain\" list values are not necessarily lists themselves. Instead, what do they contain?\n",
    "17. How do you distinguish between copy.copy() and copy.deepcopy()?\n",
    "\n"
   ]
  },
  {
   "cell_type": "markdown",
   "id": "a8a8caa5",
   "metadata": {},
   "source": [
    "***1. What exactly is []?***"
   ]
  },
  {
   "cell_type": "markdown",
   "id": "36840e42",
   "metadata": {},
   "source": [
    "***ANS-*** This a empty list"
   ]
  },
  {
   "cell_type": "markdown",
   "id": "5df2d36b",
   "metadata": {},
   "source": [
    "***2. In a list of values stored in a variable called spam, how would you assign the value 'hello' as the third value? (Assume [2, 4, 6, 8, 10] are in spam.)***"
   ]
  },
  {
   "cell_type": "code",
   "execution_count": 3,
   "id": "8f32f077",
   "metadata": {},
   "outputs": [],
   "source": [
    "#answer\n",
    "spam=[2, 4, 6, 8, 10]\n",
    "spam.insert(2,\"hello\") #List uses zero based indexing"
   ]
  },
  {
   "cell_type": "code",
   "execution_count": 4,
   "id": "d33b19f1",
   "metadata": {},
   "outputs": [
    {
     "data": {
      "text/plain": [
       "[2, 4, 'hello', 6, 8, 10]"
      ]
     },
     "execution_count": 4,
     "metadata": {},
     "output_type": "execute_result"
    }
   ],
   "source": [
    "spam"
   ]
  },
  {
   "cell_type": "markdown",
   "id": "056ec0d4",
   "metadata": {},
   "source": [
    "***Let's pretend the spam includes the list ['a', 'b', 'c', 'd'] for the next three queries.***"
   ]
  },
  {
   "cell_type": "markdown",
   "id": "d391d727",
   "metadata": {},
   "source": [
    "***3. What is the value of spam[int(int('3' * 2) / 11)]?***"
   ]
  },
  {
   "cell_type": "code",
   "execution_count": 9,
   "id": "6e1b1fb9",
   "metadata": {},
   "outputs": [
    {
     "data": {
      "text/plain": [
       "'d'"
      ]
     },
     "execution_count": 9,
     "metadata": {},
     "output_type": "execute_result"
    }
   ],
   "source": [
    "spam=[\"a\",\"b\",\"c\",\"d\"]\n",
    "spam[int(int('3' * 2) // 11)]"
   ]
  },
  {
   "cell_type": "markdown",
   "id": "e6458a44",
   "metadata": {},
   "source": [
    "***4. What is the value of spam[-1]?***"
   ]
  },
  {
   "cell_type": "code",
   "execution_count": 10,
   "id": "21b336f4",
   "metadata": {},
   "outputs": [
    {
     "data": {
      "text/plain": [
       "'d'"
      ]
     },
     "execution_count": 10,
     "metadata": {},
     "output_type": "execute_result"
    }
   ],
   "source": [
    "spam[-1]"
   ]
  },
  {
   "cell_type": "markdown",
   "id": "2bb5bbf8",
   "metadata": {},
   "source": [
    "***5. What is the value of spam[:2]?***"
   ]
  },
  {
   "cell_type": "code",
   "execution_count": 11,
   "id": "f3ad0323",
   "metadata": {},
   "outputs": [
    {
     "data": {
      "text/plain": [
       "['a', 'b']"
      ]
     },
     "execution_count": 11,
     "metadata": {},
     "output_type": "execute_result"
    }
   ],
   "source": [
    "spam[:2]"
   ]
  },
  {
   "cell_type": "markdown",
   "id": "c6d2089a",
   "metadata": {},
   "source": [
    "***Let's pretend bacon has the list [3.14, 'cat,' 11, 'cat,' True] for the next three questions.***\n",
    "\n",
    "\n",
    "***6. What is the value of bacon.index('cat')?***"
   ]
  },
  {
   "cell_type": "code",
   "execution_count": 12,
   "id": "c1395299",
   "metadata": {},
   "outputs": [
    {
     "data": {
      "text/plain": [
       "1"
      ]
     },
     "execution_count": 12,
     "metadata": {},
     "output_type": "execute_result"
    }
   ],
   "source": [
    "bacon=[3.14,\"cat\",11,\"cat\",True]\n",
    "bacon.index(\"cat\")"
   ]
  },
  {
   "cell_type": "markdown",
   "id": "1684b9f9",
   "metadata": {},
   "source": [
    "***7. How does bacon.append(99) change the look of the list value in bacon?***"
   ]
  },
  {
   "cell_type": "code",
   "execution_count": 13,
   "id": "9c042003",
   "metadata": {},
   "outputs": [],
   "source": [
    "bacon.append(99)"
   ]
  },
  {
   "cell_type": "code",
   "execution_count": 14,
   "id": "2638feb6",
   "metadata": {},
   "outputs": [
    {
     "data": {
      "text/plain": [
       "[3.14, 'cat', 11, 'cat', True, 99]"
      ]
     },
     "execution_count": 14,
     "metadata": {},
     "output_type": "execute_result"
    }
   ],
   "source": [
    "bacon"
   ]
  },
  {
   "cell_type": "markdown",
   "id": "f51343f2",
   "metadata": {},
   "source": [
    "***bacon.append(99)*** add the `99` at the end of the list"
   ]
  },
  {
   "cell_type": "markdown",
   "id": "b81912eb",
   "metadata": {},
   "source": [
    "***8. How does bacon.remove('cat') change the look of the list in bacon?***"
   ]
  },
  {
   "cell_type": "code",
   "execution_count": 15,
   "id": "325af2d7",
   "metadata": {},
   "outputs": [],
   "source": [
    "bacon.remove(\"cat\")"
   ]
  },
  {
   "cell_type": "code",
   "execution_count": 16,
   "id": "1c2b7328",
   "metadata": {},
   "outputs": [
    {
     "data": {
      "text/plain": [
       "[3.14, 11, 'cat', True, 99]"
      ]
     },
     "execution_count": 16,
     "metadata": {},
     "output_type": "execute_result"
    }
   ],
   "source": [
    "bacon"
   ]
  },
  {
   "cell_type": "markdown",
   "id": "b25d9297",
   "metadata": {},
   "source": [
    "***9. What are the list concatenation and list replication operators?***"
   ]
  },
  {
   "cell_type": "code",
   "execution_count": 17,
   "id": "c12a9978",
   "metadata": {},
   "outputs": [
    {
     "name": "stdout",
     "output_type": "stream",
     "text": [
      "list concatenation  ['ML', 'DL', 'AI', 'DS', 'DSA', 'stas', 'def', 'sys', 'ram', 'rom']\n"
     ]
    }
   ],
   "source": [
    "list1=[\"ML\",\"DL\",\"AI\",\"DS\",\"DSA\"]\n",
    "list2=[\"stas\",\"def\",\"sys\",\"ram\",\"rom\"]\n",
    "#list concatenation\n",
    "print(\"list concatenation \", list1+list2)"
   ]
  },
  {
   "cell_type": "code",
   "execution_count": 18,
   "id": "dbd184c6",
   "metadata": {},
   "outputs": [
    {
     "name": "stdout",
     "output_type": "stream",
     "text": [
      "list replication ['stas', 'def', 'sys', 'ram', 'rom', 'stas', 'def', 'sys', 'ram', 'rom']\n"
     ]
    }
   ],
   "source": [
    "#list replication\n",
    "print(\"list replication\", list2*2)"
   ]
  },
  {
   "cell_type": "markdown",
   "id": "425905d7",
   "metadata": {},
   "source": [
    "***10. What is difference between the list methods append() and insert()?***"
   ]
  },
  {
   "cell_type": "markdown",
   "id": "abc9704b",
   "metadata": {},
   "source": [
    "`append() ` method in list add the element in last of the list"
   ]
  },
  {
   "cell_type": "code",
   "execution_count": 20,
   "id": "751cf46b",
   "metadata": {},
   "outputs": [
    {
     "name": "stdout",
     "output_type": "stream",
     "text": [
      "[1, 2, 3, 4, 5, 67]\n"
     ]
    }
   ],
   "source": [
    "l=[1,2,3,4,5]\n",
    "l.append(67)\n",
    "print(l)"
   ]
  },
  {
   "cell_type": "markdown",
   "id": "54615b75",
   "metadata": {},
   "source": [
    "`insert()` method add the element at particular index which is given "
   ]
  },
  {
   "cell_type": "code",
   "execution_count": 22,
   "id": "42291b7f",
   "metadata": {},
   "outputs": [
    {
     "name": "stdout",
     "output_type": "stream",
     "text": [
      "[1, 2, 3, 'Hello', 4, 5]\n"
     ]
    }
   ],
   "source": [
    "l=[1,2,3,4,5]\n",
    "l.insert(3,\"Hello\")\n",
    "print(l)"
   ]
  },
  {
   "cell_type": "markdown",
   "id": "4f9e4553",
   "metadata": {},
   "source": [
    "***11. What are the two methods for removing items from a list?***"
   ]
  },
  {
   "cell_type": "markdown",
   "id": "51468378",
   "metadata": {},
   "source": [
    "The two methods for removing item from list are `remove()` and `pop()`"
   ]
  },
  {
   "cell_type": "markdown",
   "id": "c5ea0fd9",
   "metadata": {},
   "source": [
    "***12. Describe how list values and string values are identical.***"
   ]
  },
  {
   "cell_type": "markdown",
   "id": "2576af26",
   "metadata": {},
   "source": [
    "***ANS-*** The list value and string value are identical because they are `iterable` with the help of loop or next() function we can iterate every item one by one"
   ]
  },
  {
   "cell_type": "markdown",
   "id": "f8be7b51",
   "metadata": {},
   "source": [
    "***13. What's the difference between tuples and lists?***"
   ]
  },
  {
   "cell_type": "markdown",
   "id": "bba2b723",
   "metadata": {},
   "source": [
    "`list` are Mutable , we can add,remove or change the items.\n",
    "\n",
    "`tuple` are Immutable we cannot change the value at all"
   ]
  },
  {
   "cell_type": "markdown",
   "id": "1786d496",
   "metadata": {},
   "source": [
    "***14. How do you type a tuple value that only contains the integer 42?***"
   ]
  },
  {
   "cell_type": "markdown",
   "id": "f5cf7b2e",
   "metadata": {},
   "source": [
    "If we are writing the tuple with only one item we have to write like this t=(42,)\n",
    "\n",
    "`(The trailing comma is mandatory. otherwise its considered as a int by python Interpreter)`"
   ]
  },
  {
   "cell_type": "code",
   "execution_count": 24,
   "id": "a85c837a",
   "metadata": {},
   "outputs": [
    {
     "name": "stdout",
     "output_type": "stream",
     "text": [
      "<class 'int'>\n",
      "<class 'tuple'>\n"
     ]
    }
   ],
   "source": [
    "t=(42)\n",
    "t1=(42,)\n",
    "print(type(t))\n",
    "print(type(t1))"
   ]
  },
  {
   "cell_type": "markdown",
   "id": "8f3450f3",
   "metadata": {},
   "source": [
    "***15. How do you get a list value's tuple form? How do you get a tuple value's list form?***"
   ]
  },
  {
   "cell_type": "markdown",
   "id": "d8c64464",
   "metadata": {},
   "source": [
    "***ANS-*** for converting tuple to list and list to tuple, we have to do type casting"
   ]
  },
  {
   "cell_type": "code",
   "execution_count": 25,
   "id": "079dd354",
   "metadata": {},
   "outputs": [
    {
     "name": "stdout",
     "output_type": "stream",
     "text": [
      "(1, 2, 3, 4)\n"
     ]
    }
   ],
   "source": [
    "#list to tuple\n",
    "l=[1,2,3,4]\n",
    "t=tuple(l)\n",
    "print(t)"
   ]
  },
  {
   "cell_type": "code",
   "execution_count": 26,
   "id": "24afaae9",
   "metadata": {},
   "outputs": [
    {
     "name": "stdout",
     "output_type": "stream",
     "text": [
      "[1, 2, 3, 4, 5]\n"
     ]
    }
   ],
   "source": [
    "#tuple to list\n",
    "t=(1,2,3,4,5)\n",
    "l=list(t)\n",
    "print(l)"
   ]
  },
  {
   "cell_type": "markdown",
   "id": "938661c7",
   "metadata": {},
   "source": [
    "***16. Variables that \"contain\" list values are not necessarily lists themselves. Instead, what do they contain?***\n",
    "\n",
    "\n",
    "***Ans: They contain references to list values.***"
   ]
  },
  {
   "cell_type": "code",
   "execution_count": 27,
   "id": "41ab5194",
   "metadata": {},
   "outputs": [],
   "source": [
    "l=[1,2,3,4,5]\n",
    "l2=[5,6,7,8]\n",
    "\n",
    "l3=[l,l2]"
   ]
  },
  {
   "cell_type": "code",
   "execution_count": 28,
   "id": "67e64b13",
   "metadata": {},
   "outputs": [
    {
     "data": {
      "text/plain": [
       "[[1, 2, 3, 4, 5], [5, 6, 7, 8]]"
      ]
     },
     "execution_count": 28,
     "metadata": {},
     "output_type": "execute_result"
    }
   ],
   "source": [
    "l3"
   ]
  },
  {
   "cell_type": "markdown",
   "id": "6e4226db",
   "metadata": {},
   "source": [
    "***17. How do you distinguish between copy.copy() and copy.deepcopy()?***\n",
    "\n",
    "***Ans:*** The copy.copy() function will do a shallow copy of a list, while the copy.`deepcopy()` function will do a deep copy of a list. That is, only copy.`deepcopy()` will duplicate any lists inside the list."
   ]
  }
 ],
 "metadata": {
  "kernelspec": {
   "display_name": "Python 3 (ipykernel)",
   "language": "python",
   "name": "python3"
  },
  "language_info": {
   "codemirror_mode": {
    "name": "ipython",
    "version": 3
   },
   "file_extension": ".py",
   "mimetype": "text/x-python",
   "name": "python",
   "nbconvert_exporter": "python",
   "pygments_lexer": "ipython3",
   "version": "3.9.13"
  },
  "toc": {
   "base_numbering": 1,
   "nav_menu": {},
   "number_sections": true,
   "sideBar": true,
   "skip_h1_title": false,
   "title_cell": "Table of Contents",
   "title_sidebar": "Contents",
   "toc_cell": false,
   "toc_position": {},
   "toc_section_display": true,
   "toc_window_display": false
  },
  "varInspector": {
   "cols": {
    "lenName": 16,
    "lenType": 16,
    "lenVar": 40
   },
   "kernels_config": {
    "python": {
     "delete_cmd_postfix": "",
     "delete_cmd_prefix": "del ",
     "library": "var_list.py",
     "varRefreshCmd": "print(var_dic_list())"
    },
    "r": {
     "delete_cmd_postfix": ") ",
     "delete_cmd_prefix": "rm(",
     "library": "var_list.r",
     "varRefreshCmd": "cat(var_dic_list()) "
    }
   },
   "types_to_exclude": [
    "module",
    "function",
    "builtin_function_or_method",
    "instance",
    "_Feature"
   ],
   "window_display": false
  }
 },
 "nbformat": 4,
 "nbformat_minor": 5
}
