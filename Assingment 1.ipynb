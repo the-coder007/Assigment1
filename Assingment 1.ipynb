{
 "cells": [
  {
   "cell_type": "markdown",
   "id": "435d8aac",
   "metadata": {},
   "source": [
    "1. In the below elements which of them are values or an expression? eg:- values can be integer or string and expressions will be mathematical operators.\n",
    "* \n",
    "'hello'\n",
    "-87.8\n",
    "- \n",
    "/ \n",
    "+\t\n",
    "6 \n",
    "\n",
    "2. What is the difference between string and variable?\n",
    "\n",
    "3. Describe three different data types.\n",
    "\n",
    "4. What is an expression made up of? What do all expressions do?\n",
    "5. This assignment statements, like spam = 10. What is the difference between an expression and a statement?\n",
    "6. After running the following code, what does the variable bacon contain?\n",
    "   - bacon = 22\n",
    "   - bacon + 1\n",
    "\n",
    "7. What should the values of the following two terms be?\n",
    "   - 'spam' + 'spamspam'\n",
    "   - 'spam' * 3\n",
    "\n",
    "8. Why is eggs a valid variable name while 100 is invalid?\n",
    "9. What three functions can be used to get the integer, floating-point number, or string version of a value?\n",
    "10. Why does this expression cause an error? How can you fix it?\n",
    "   - 'I have eaten ' + 99 + ' burritos.'\n",
    "\n",
    "\n"
   ]
  },
  {
   "cell_type": "markdown",
   "id": "5196a953",
   "metadata": {},
   "source": [
    "# In the below elements which of them are values or an expression? eg:- values can be integer or string and expressions will be mathematical operators."
   ]
  },
  {
   "cell_type": "markdown",
   "id": "92abd23a",
   "metadata": {},
   "source": [
    "1. In the below elements which of them are values or an expression? eg:- values can be integer or string and expressions will be mathematical operators.\n",
    "\n",
    "(*) = expression(mathematical operators)\n",
    "\n",
    "'hello'= string\n",
    "\n",
    " -87.8 = integer\n",
    "\n",
    "(-) = expression(mathematical operators)\n",
    "\n",
    "/ = expression(mathematical operators)\n",
    "\n",
    "(+) = expression(mathematical operators)\n",
    "\n",
    "6 = integer"
   ]
  },
  {
   "cell_type": "markdown",
   "id": "ef6d8490",
   "metadata": {},
   "source": [
    "# What is the difference between string and  Variable?\n",
    "\n"
   ]
  },
  {
   "cell_type": "markdown",
   "id": "55dafe07",
   "metadata": {},
   "source": [
    "What is the difference between string and ?\n",
    "\n",
    "Variable:- Variables are symbols that you can use to store data in a program. You can think of them as an empty box that you                fill with some data or value.\n",
    "- a=\"iNueron\"\n",
    "\n",
    "- here a is variable and \"INueron\" is string \n",
    "\n",
    "String:-A string is any series of characters that are interpreted literally by a script. For example, \"hello world\" and \"LKJH019283\" are both examples of strings"
   ]
  },
  {
   "cell_type": "markdown",
   "id": "8ff14f5c",
   "metadata": {},
   "source": [
    "# Describe three different data types"
   ]
  },
  {
   "cell_type": "markdown",
   "id": "de67642a",
   "metadata": {},
   "source": [
    "- Numeric = In Python, numeric data type represent the data which has numeric value. Numeric value can be integer, floating number or even complex numbers. These values are defined as int, float and complex class in Python\n",
    "\n",
    "1. Integers – This value is represented by int class. It contains positive or negative whole numbers (without fraction or decimal). In Python there is no limit to how long an integer value can be.\n",
    "2. Float – This value is represented by float class. It is a real number with floating point representation. It is specified by a decimal point. Optionally, the character e or E followed by a positive or negative integer may be appended to specify scientific notation.\n",
    "3. Complex Numbers – Complex number is represented by complex class. It is specified as (real part) + (imaginary part)j. For example – 2+3j\n",
    "\n",
    "\n",
    "\n"
   ]
  },
  {
   "cell_type": "markdown",
   "id": "26aba359",
   "metadata": {},
   "source": [
    "- Sequence Type=\n",
    "In Python, sequence is the ordered collection of similar or different data types. Sequences allows to store multiple values in an organized and efficient fashion. There are several sequence types in Python –\n",
    "\n",
    "\n",
    "1. String= \n",
    "In Python, Strings are arrays of bytes representing Unicode characters. A string is a collection of one or more characters put in a single quote, double-quote or triple quote. In python there is no character data type, a character is a string of length one. It is represented by str class.\n",
    "\n",
    "2. List= Lists are just like the arrays, declared in other languages which is a ordered collection of data. It is very flexible as the items in a list do not need to be of the same type.\n",
    "\n",
    "3. Tuple= Just like list, tuple is also an ordered collection of Python objects. The only difference between tuple and list is that tuples are immutable i.e. tuples cannot be modified after it is created. It is represented by tuple class.\n",
    " "
   ]
  },
  {
   "cell_type": "markdown",
   "id": "aa7d24df",
   "metadata": {},
   "source": [
    "- Boolean=\n",
    "Data type with one of the two built-in values, True or False. Boolean objects that are equal to True are truthy (true), and those equal to False are falsy (false). But non-Boolean objects can be evaluated in Boolean context as well and determined to be true or false. It is denoted by the class bool."
   ]
  },
  {
   "cell_type": "markdown",
   "id": "97b17bd3",
   "metadata": {},
   "source": [
    "# What is an expression made up of? What do all expressions do?"
   ]
  },
  {
   "cell_type": "markdown",
   "id": "1c9d5147",
   "metadata": {},
   "source": [
    "An expression is a combination of operators and operands that is interpreted to produce some other value.\n",
    "\n",
    "Types of Expressions\n",
    "- Arithmetic operators\n",
    "- Assignment operators\n",
    "- Comparison operators\n",
    "- Logical operators\n",
    "- Identity operators\n",
    "- Membership operators\n",
    "- Bitwise operators\n",
    "- "
   ]
  },
  {
   "cell_type": "markdown",
   "id": "e41e6210",
   "metadata": {},
   "source": [
    "# This assignment statements, like spam = 10. What is the difference between an expression and a statement?"
   ]
  },
  {
   "cell_type": "markdown",
   "id": "a76a6b56",
   "metadata": {},
   "source": [
    "\n",
    "In programming language terminology, an “expression” is a combination of values and functions that are combined and interpreted by the compiler to create a new value, as opposed to a “statement” which is just a standalone unit of execution and doesn't return anything.\n",
    "\n",
    "spam =10 will always return the value of spam is eqaul to 10 in code but This assingments statement is just stand alone term with donot return any thing"
   ]
  },
  {
   "cell_type": "markdown",
   "id": "f25a3f3b",
   "metadata": {},
   "source": [
    "# After running the following code, what does the variable bacon contain?\n",
    "\n",
    "- bacon = 22\n",
    "- bacon + 1"
   ]
  },
  {
   "cell_type": "code",
   "execution_count": 6,
   "id": "64900e05",
   "metadata": {},
   "outputs": [
    {
     "data": {
      "text/plain": [
       "23"
      ]
     },
     "execution_count": 6,
     "metadata": {},
     "output_type": "execute_result"
    }
   ],
   "source": [
    "bacon=22\n",
    "bacon+1\n"
   ]
  },
  {
   "cell_type": "markdown",
   "id": "779c2d48",
   "metadata": {},
   "source": [
    "# What should the values of the following two terms be?\n",
    "\n",
    "- 'spam' + 'spamspam'\n",
    "- 'spam' * 3 `"
   ]
  },
  {
   "cell_type": "code",
   "execution_count": 7,
   "id": "5b62279e",
   "metadata": {},
   "outputs": [
    {
     "data": {
      "text/plain": [
       "'spamspamspam'"
      ]
     },
     "execution_count": 7,
     "metadata": {},
     "output_type": "execute_result"
    }
   ],
   "source": [
    "'spam' + 'spamspam'"
   ]
  },
  {
   "cell_type": "code",
   "execution_count": 8,
   "id": "6ce19544",
   "metadata": {},
   "outputs": [
    {
     "data": {
      "text/plain": [
       "'spamspamspam'"
      ]
     },
     "execution_count": 8,
     "metadata": {},
     "output_type": "execute_result"
    }
   ],
   "source": [
    "'spam' * 3 "
   ]
  },
  {
   "cell_type": "markdown",
   "id": "fb45404d",
   "metadata": {},
   "source": [
    "# Why is eggs a valid variable name while 100 is invalid?"
   ]
  },
  {
   "cell_type": "markdown",
   "id": "070f60c2",
   "metadata": {},
   "source": [
    "- Variables names can't start with numeric value."
   ]
  },
  {
   "cell_type": "markdown",
   "id": "1f08bf05",
   "metadata": {},
   "source": [
    "# What three functions can be used to get the integer, floating-point number, or string version of a value?# "
   ]
  },
  {
   "cell_type": "markdown",
   "id": "1b5d304a",
   "metadata": {},
   "source": [
    "The int(), float(), and str() functions will evaluate to the integer, floating-point number, and string versions of the value passed to them."
   ]
  },
  {
   "cell_type": "markdown",
   "id": "796370f6",
   "metadata": {},
   "source": [
    "# Why does this expression cause an error? How can you fix it?\n",
    "  - 'I have eaten ' + 99 + ' burritos.'"
   ]
  },
  {
   "cell_type": "code",
   "execution_count": 13,
   "id": "efe5e6d0",
   "metadata": {},
   "outputs": [
    {
     "ename": "TypeError",
     "evalue": "can only concatenate str (not \"int\") to str",
     "output_type": "error",
     "traceback": [
      "\u001b[1;31m---------------------------------------------------------------------------\u001b[0m",
      "\u001b[1;31mTypeError\u001b[0m                                 Traceback (most recent call last)",
      "Input \u001b[1;32mIn [13]\u001b[0m, in \u001b[0;36m<cell line: 1>\u001b[1;34m()\u001b[0m\n\u001b[1;32m----> 1\u001b[0m \u001b[38;5;124;43m'\u001b[39;49m\u001b[38;5;124;43mI have eaten \u001b[39;49m\u001b[38;5;124;43m'\u001b[39;49m\u001b[43m \u001b[49m\u001b[38;5;241;43m+\u001b[39;49m\u001b[43m \u001b[49m\u001b[38;5;241;43m99\u001b[39;49m \u001b[38;5;241m+\u001b[39m \u001b[38;5;124m'\u001b[39m\u001b[38;5;124m burritos.\u001b[39m\u001b[38;5;124m'\u001b[39m\n",
      "\u001b[1;31mTypeError\u001b[0m: can only concatenate str (not \"int\") to str"
     ]
    }
   ],
   "source": [
    "'I have eaten ' + 99 + ' burritos.'\n",
    "\n",
    "#we can't perform addition operation with string and integers without concatenate integer "
   ]
  },
  {
   "cell_type": "markdown",
   "id": "696c3ef1",
   "metadata": {},
   "source": [
    "## Fixing"
   ]
  },
  {
   "cell_type": "markdown",
   "id": "4235da26",
   "metadata": {},
   "source": [
    "for fixing this we have to do typecasting with integer. we have to convert 99 in string format"
   ]
  },
  {
   "cell_type": "code",
   "execution_count": 12,
   "id": "06c697b3",
   "metadata": {},
   "outputs": [
    {
     "data": {
      "text/plain": [
       "'I have eaten 99 burritos.'"
      ]
     },
     "execution_count": 12,
     "metadata": {},
     "output_type": "execute_result"
    }
   ],
   "source": [
    "'I have eaten ' + str(99) + ' burritos.'"
   ]
  },
  {
   "cell_type": "code",
   "execution_count": null,
   "id": "e93b0e84",
   "metadata": {},
   "outputs": [],
   "source": []
  }
 ],
 "metadata": {
  "kernelspec": {
   "display_name": "Python 3 (ipykernel)",
   "language": "python",
   "name": "python3"
  },
  "language_info": {
   "codemirror_mode": {
    "name": "ipython",
    "version": 3
   },
   "file_extension": ".py",
   "mimetype": "text/x-python",
   "name": "python",
   "nbconvert_exporter": "python",
   "pygments_lexer": "ipython3",
   "version": "3.9.13"
  },
  "toc": {
   "base_numbering": 1,
   "nav_menu": {},
   "number_sections": true,
   "sideBar": true,
   "skip_h1_title": false,
   "title_cell": "Table of Contents",
   "title_sidebar": "Contents",
   "toc_cell": false,
   "toc_position": {},
   "toc_section_display": true,
   "toc_window_display": false
  },
  "varInspector": {
   "cols": {
    "lenName": 16,
    "lenType": 16,
    "lenVar": 40
   },
   "kernels_config": {
    "python": {
     "delete_cmd_postfix": "",
     "delete_cmd_prefix": "del ",
     "library": "var_list.py",
     "varRefreshCmd": "print(var_dic_list())"
    },
    "r": {
     "delete_cmd_postfix": ") ",
     "delete_cmd_prefix": "rm(",
     "library": "var_list.r",
     "varRefreshCmd": "cat(var_dic_list()) "
    }
   },
   "types_to_exclude": [
    "module",
    "function",
    "builtin_function_or_method",
    "instance",
    "_Feature"
   ],
   "window_display": false
  }
 },
 "nbformat": 4,
 "nbformat_minor": 5
}
