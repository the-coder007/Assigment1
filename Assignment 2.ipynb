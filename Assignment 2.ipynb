{
 "cells": [
  {
   "cell_type": "markdown",
   "id": "303f64b6",
   "metadata": {},
   "source": [
    "# Questions\n",
    "1. What are the two values of the Boolean data type? How do you write them?\n",
    "2. What are the three different types of Boolean operators?\n",
    "3. Make a list of each Boolean operator's truth tables (i.e. every possible combination of Boolean values for the operator and what it evaluate ).\n",
    "4. What are the values of the following expressions?\n",
    "* . (5 > 4) and (3 == 5)\n",
    "*. not (5 > 4)\n",
    "*. (5 > 4) or (3 == 5)\n",
    "*. not ((5 > 4) or (3 == 5))\n",
    "*. (True and True) and (True == False)\n",
    "*. (not False) or (not True)\n",
    "5. What are the six comparison operators?\n",
    "6. How do you tell the difference between the equal to and assignment operators?Describe a condition and when you would use one.\n",
    "7. Identify the three blocks in this code:\n",
    "   spam = 0\n",
    "   if spam == 10:\n",
    "   print('eggs')\n",
    "   if spam > 5:\n",
    "   print('bacon')\n",
    "   else:\n",
    "   print('ham')\n",
    "   print('spam')\n",
    "   print('spam')\n",
    "8. Write code that prints Hello if 1 is stored in spam, prints Howdy if 2 is stored in spam, and prints Greetings! if anything else is stored in spam.\n",
    "\n",
    "\n",
    "9. If your programme is stuck in an endless loop, what keys you’ll press?\n",
    "10. How can you tell the difference between break and continue?\n",
    "11. In a for loop, what is the difference between range(10), range(0, 10), and range(0, 10, 1)?\n",
    "12. Write a short program that prints the numbers 1 to 10 using a for loop. Then write an equivalent program that prints the numbers 1 to 10 using a while loop.\n",
    "13. If you had a function named bacon() inside a module named spam, how would you call it after importing spam?\n",
    "\n"
   ]
  },
  {
   "cell_type": "markdown",
   "id": "039cae7b",
   "metadata": {},
   "source": [
    "# answers"
   ]
  },
  {
   "cell_type": "markdown",
   "id": "fdc0cf92",
   "metadata": {},
   "source": [
    "**1. What are the two values of the Boolean data type? How do you write them?**"
   ]
  },
  {
   "cell_type": "markdown",
   "id": "4466e4ec",
   "metadata": {},
   "source": [
    "The two values of Boolean Data types are \n",
    "1. True\n",
    "2. False\n",
    "\n",
    "****WE HAVE TO USE T AND F IN UPPER-CASE & OTHER LETTERS IN LOWER CASE ****"
   ]
  },
  {
   "cell_type": "code",
   "execution_count": 4,
   "id": "6ca9066c",
   "metadata": {},
   "outputs": [
    {
     "name": "stdout",
     "output_type": "stream",
     "text": [
      "True <class 'bool'>\n",
      "False <class 'bool'>\n"
     ]
    }
   ],
   "source": [
    "a=True\n",
    "b=False\n",
    "print(a,type(a))\n",
    "print(b,type(b))"
   ]
  },
  {
   "cell_type": "markdown",
   "id": "13ff25de",
   "metadata": {},
   "source": [
    " ***2. What are the three different types of Boolean operators?***"
   ]
  },
  {
   "cell_type": "markdown",
   "id": "f4e58038",
   "metadata": {},
   "source": [
    "The three different types of boolean operators are:-\n",
    "\n",
    "1. **or**\n",
    "2. **and**\n",
    "3. **not**"
   ]
  },
  {
   "cell_type": "code",
   "execution_count": 8,
   "id": "0d954f90",
   "metadata": {},
   "outputs": [
    {
     "name": "stdout",
     "output_type": "stream",
     "text": [
      "True\n",
      "False\n"
     ]
    }
   ],
   "source": [
    "# and operator\n",
    "a=100\n",
    "b=200\n",
    "print(a>50 and b<300) # in and operator all the conditons have to be true to get the output true\n",
    "print(a<50 and b<300)"
   ]
  },
  {
   "cell_type": "code",
   "execution_count": 10,
   "id": "e57c1b94",
   "metadata": {},
   "outputs": [
    {
     "name": "stdout",
     "output_type": "stream",
     "text": [
      "True\n",
      "True\n"
     ]
    }
   ],
   "source": [
    "# or operator\n",
    "a=100\n",
    "b=200\n",
    "print(a>50 or b<300) # or operater require only one conditon to be true to return true as output\n",
    "print(a<50 or b>100)"
   ]
  },
  {
   "cell_type": "code",
   "execution_count": 26,
   "id": "fe8b2378",
   "metadata": {},
   "outputs": [
    {
     "name": "stdout",
     "output_type": "stream",
     "text": [
      "True\n",
      "True\n"
     ]
    }
   ],
   "source": [
    "# not operator\n",
    "a=100\n",
    "print(not(a>100))\n",
    "\n",
    "#another example\n",
    "a=10\n",
    "b=11\n",
    "print(a!=b)"
   ]
  },
  {
   "cell_type": "markdown",
   "id": "73b65715",
   "metadata": {},
   "source": [
    "*** 3. Make a list of each Boolean operator's truth tables (i.e. every possible combination of Boolean values for the operator and what it evaluate.)***"
   ]
  },
  {
   "cell_type": "markdown",
   "id": "8faf1a55",
   "metadata": {},
   "source": [
    "**TRUTH TABLE FOR OR OPERATOR**\n",
    "\n",
    "- True and True is True\n",
    "- True and False is True\n",
    "- False and True is True\n",
    "- False and False is False\n"
   ]
  },
  {
   "cell_type": "markdown",
   "id": "a3da03d0",
   "metadata": {},
   "source": [
    "**TRUTH TABLE FOR AND OPERATOR**\n",
    "- True and True  is True\n",
    "- True and False is False\n",
    "- False and True is False\n",
    "- False and False is False"
   ]
  },
  {
   "cell_type": "markdown",
   "id": "3702556a",
   "metadata": {},
   "source": [
    "**TRUTH TABLE FOR NOT OPERATOR**"
   ]
  },
  {
   "cell_type": "markdown",
   "id": "1251fd06",
   "metadata": {},
   "source": [
    "- True is not false and false is not true"
   ]
  },
  {
   "cell_type": "markdown",
   "id": "42fd57e2",
   "metadata": {},
   "source": [
    "***4. What are the values of the following expressions?***"
   ]
  },
  {
   "cell_type": "code",
   "execution_count": 17,
   "id": "d151201a",
   "metadata": {},
   "outputs": [
    {
     "name": "stdout",
     "output_type": "stream",
     "text": [
      "False\n",
      "False\n",
      "True\n",
      "False\n",
      "False\n",
      "True\n"
     ]
    }
   ],
   "source": [
    "print((5 > 4) and (3 == 5))\n",
    "print(not (5 > 4))\n",
    "print((5 > 4) or (3 == 5))\n",
    "print(not ((5 > 4) or (3 == 5)))\n",
    "print((True and True) and (True == False))\n",
    "print((not False) or (not True))"
   ]
  },
  {
   "cell_type": "markdown",
   "id": "3eee8fae",
   "metadata": {},
   "source": [
    "***5. What are the six comparison operators?***"
   ]
  },
  {
   "cell_type": "markdown",
   "id": "ff1fcfcc",
   "metadata": {},
   "source": [
    "- The six comparison operators are :-\n",
    "- `==`   equal to\n",
    "- `>`    smaller than\n",
    "- `<`    greater than\n",
    "- `<=`   greater than or equal to\n",
    "- `>=`   smaller than or equal to\n",
    "- `!=`   not equal to"
   ]
  },
  {
   "cell_type": "markdown",
   "id": "23f22d8e",
   "metadata": {},
   "source": [
    "***6. How do you tell the difference between the equal to and assignment operators?Describe a condition and when you would use one***"
   ]
  },
  {
   "cell_type": "markdown",
   "id": "d30dee61",
   "metadata": {},
   "source": [
    "***1. equal to(`==`)***: Equal to is comparison operator uses for compare the two values\n",
    "\n",
    "***2. Assignment operator***: Assignment operator use to assign the value to the variables"
   ]
  },
  {
   "cell_type": "code",
   "execution_count": 21,
   "id": "586b771f",
   "metadata": {},
   "outputs": [
    {
     "name": "stdout",
     "output_type": "stream",
     "text": [
      "10\n"
     ]
    },
    {
     "data": {
      "text/plain": [
       "False"
      ]
     },
     "execution_count": 21,
     "metadata": {},
     "output_type": "execute_result"
    }
   ],
   "source": [
    "a=10 # this is example of assignment operator where we are assigning the value to a\n",
    "print(a)\n",
    "\n",
    "b==10 # this is example of eqaul to operator here we are trying to compare the b is equal to 10 or not.\n"
   ]
  },
  {
   "cell_type": "markdown",
   "id": "eda6cee0",
   "metadata": {},
   "source": [
    "***7. Identify the three blocks in this code:***"
   ]
  },
  {
   "cell_type": "code",
   "execution_count": 29,
   "id": "e1b9979c",
   "metadata": {},
   "outputs": [
    {
     "name": "stdout",
     "output_type": "stream",
     "text": [
      "ham\n",
      "spam\n",
      "spam\n"
     ]
    }
   ],
   "source": [
    " spam = 0\n",
    "if spam == 10:\n",
    "    print('eggs')  # First Block\n",
    "    \n",
    "    \n",
    "if spam > 5:\n",
    "    print('bacon') # Second Block\n",
    "    \n",
    "    \n",
    "else:              #Third Block\n",
    "    print('ham')\n",
    "    print('spam')\n",
    "    print('spam')"
   ]
  },
  {
   "cell_type": "markdown",
   "id": "3d09408a",
   "metadata": {},
   "source": [
    "***8. Write code that prints Hello if 1 is stored in spam, prints Howdy if 2 is stored in spam, and prints Greetings! if anything else is stored in spam.***\n"
   ]
  },
  {
   "cell_type": "code",
   "execution_count": 40,
   "id": "18afa8f6",
   "metadata": {},
   "outputs": [
    {
     "name": "stdout",
     "output_type": "stream",
     "text": [
      "Hello\n",
      "Howdy\n",
      "Greetings\n"
     ]
    }
   ],
   "source": [
    "spam=[1,2,3]\n",
    "for i in spam:\n",
    "        if i==1:\n",
    "            print(\"Hello\")\n",
    "        elif i==2:\n",
    "            print(\"Howdy\")\n",
    "        else:\n",
    "            print(\"Greetings\")\n",
    "            "
   ]
  },
  {
   "cell_type": "markdown",
   "id": "78111578",
   "metadata": {},
   "source": [
    "***9. If your programme is stuck in an endless loop, what keys you’ll press?***\n"
   ]
  },
  {
   "cell_type": "markdown",
   "id": "4a57ad2e",
   "metadata": {},
   "source": [
    "- An infinite loop is a loop that runs indefinitely and it only stops with external intervention or when a break statement is found. we can stop an infinite loop with `CTRL + C` "
   ]
  },
  {
   "cell_type": "markdown",
   "id": "53cb35c8",
   "metadata": {},
   "source": [
    "***10. How can you tell the difference between break and continue?***"
   ]
  },
  {
   "cell_type": "code",
   "execution_count": 53,
   "id": "bafcd73a",
   "metadata": {},
   "outputs": [
    {
     "name": "stdout",
     "output_type": "stream",
     "text": [
      "this is break statement\n",
      "The Python break statement stops the loop in which the statement is placed\n"
     ]
    }
   ],
   "source": [
    "#break \n",
    "students=[\"ram\",\"shyam\",\"sudh\",\"ranjan\"]\n",
    "for i in students:\n",
    "    if i==\"shyam\":\n",
    "          break\n",
    "    else:\n",
    "        print(\"this is break statement\")\n",
    "        \n",
    "print(\"The Python break statement stops the loop in which the statement is placed\")"
   ]
  },
  {
   "cell_type": "code",
   "execution_count": 54,
   "id": "ccfa349f",
   "metadata": {},
   "outputs": [
    {
     "name": "stdout",
     "output_type": "stream",
     "text": [
      "this is break statement\n",
      "this is break statement\n",
      "this is break statement\n",
      "A Python continue statement skips a single iteration in a loop\n"
     ]
    }
   ],
   "source": [
    "#continue staement\n",
    "students=[\"ram\",\"shyam\",\"sudh\",\"ranjan\"]\n",
    "for i in students:\n",
    "    if i==\"shyam\":\n",
    "        continue\n",
    "    else:\n",
    "        print(\"this is break statement\")\n",
    "\n",
    "print(\"A Python continue statement skips a single iteration in a loop\")\n"
   ]
  },
  {
   "cell_type": "markdown",
   "id": "df3d68a5",
   "metadata": {},
   "source": [
    "***11. In a for loop, what is the difference between range(10), range(0, 10), and range(0, 10, 1)?***"
   ]
  },
  {
   "cell_type": "markdown",
   "id": "5f61e045",
   "metadata": {},
   "source": [
    "1. `range(10)`    :- call range from 0 t0 9 (But excluding 10)\n",
    "2. `range(0,10)`  :- we are explicitly telling to start from 0\n",
    "3. `range(0,10,1)`:- In this we are setting up the lower bound , upper bound and jump size \n",
    "\n",
    "\n",
    "- There is no difference in term of output in all the three range but some conceptional difference are their which are important to understand"
   ]
  },
  {
   "cell_type": "markdown",
   "id": "67595a1f",
   "metadata": {},
   "source": [
    "***12. Write a short program that prints the numbers 1 to 10 using a for loop. Then write an equivalent program that prints the numbers 1 to 10 using a while loop.***"
   ]
  },
  {
   "cell_type": "code",
   "execution_count": 66,
   "id": "ed856de6",
   "metadata": {
    "code_folding": []
   },
   "outputs": [
    {
     "name": "stdout",
     "output_type": "stream",
     "text": [
      "---------- From For Loop ----------\n",
      "1 2 3 4 5 6 7 8 9 10 \n",
      "\n",
      "---------- From While Loop ----------\n",
      "1 2 3 4 5 6 7 8 9 10 "
     ]
    }
   ],
   "source": [
    "print(\"-\"*10,\"From For Loop\",\"-\"*10)\n",
    "for i in range(1,11):\n",
    "    print(i,end=\" \")\n",
    "print(\"\\n\")\n",
    "    \n",
    "print(\"-\"*10,\"From While Loop\",\"-\"*10)\n",
    "i=1\n",
    "while i<=10:\n",
    "    print(i,end=\" \")\n",
    "    i+=1\n",
    "    "
   ]
  },
  {
   "cell_type": "markdown",
   "id": "5d275894",
   "metadata": {},
   "source": [
    "***13. If you had a function named bacon() inside a module named spam, how would you call it after importing spam?***"
   ]
  },
  {
   "cell_type": "markdown",
   "id": "015bea39",
   "metadata": {},
   "source": [
    "**Ans:** This function can be called with `spam.bacon()`"
   ]
  },
  {
   "cell_type": "code",
   "execution_count": null,
   "id": "cdc322ba",
   "metadata": {},
   "outputs": [],
   "source": []
  },
  {
   "cell_type": "code",
   "execution_count": null,
   "id": "4ea0a430",
   "metadata": {},
   "outputs": [],
   "source": []
  }
 ],
 "metadata": {
  "kernelspec": {
   "display_name": "Python 3 (ipykernel)",
   "language": "python",
   "name": "python3"
  },
  "language_info": {
   "codemirror_mode": {
    "name": "ipython",
    "version": 3
   },
   "file_extension": ".py",
   "mimetype": "text/x-python",
   "name": "python",
   "nbconvert_exporter": "python",
   "pygments_lexer": "ipython3",
   "version": "3.9.13"
  },
  "toc": {
   "base_numbering": 1,
   "nav_menu": {},
   "number_sections": true,
   "sideBar": true,
   "skip_h1_title": false,
   "title_cell": "Table of Contents",
   "title_sidebar": "Contents",
   "toc_cell": false,
   "toc_position": {},
   "toc_section_display": true,
   "toc_window_display": false
  },
  "varInspector": {
   "cols": {
    "lenName": 16,
    "lenType": 16,
    "lenVar": 40
   },
   "kernels_config": {
    "python": {
     "delete_cmd_postfix": "",
     "delete_cmd_prefix": "del ",
     "library": "var_list.py",
     "varRefreshCmd": "print(var_dic_list())"
    },
    "r": {
     "delete_cmd_postfix": ") ",
     "delete_cmd_prefix": "rm(",
     "library": "var_list.r",
     "varRefreshCmd": "cat(var_dic_list()) "
    }
   },
   "types_to_exclude": [
    "module",
    "function",
    "builtin_function_or_method",
    "instance",
    "_Feature"
   ],
   "window_display": false
  }
 },
 "nbformat": 4,
 "nbformat_minor": 5
}
