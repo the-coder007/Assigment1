{
 "cells": [
  {
   "cell_type": "markdown",
   "id": "c75e3550",
   "metadata": {},
   "source": [
    "# Assignment 3"
   ]
  },
  {
   "cell_type": "markdown",
   "id": "58f85cd9",
   "metadata": {},
   "source": [
    "1. Why are functions advantageous to have in your programs?\n",
    "2. When does the code in a function run: when it's specified or when it's called?\n",
    "3. What statement creates a function?\n",
    "4. What is the difference between a function and a function call?\n",
    "5. How many global scopes are there in a Python program? How many local scopes?\n",
    "6. What happens to variables in a local scope when the function call returns?\n",
    "7. What is the concept of a return value? Is it possible to have a return value in an expression?\n",
    "8. If a function does not have a return statement, what is the return value of a call to that function?\n",
    "9. How do you make a function variable refer to the global variable?\n",
    "10. What is the data type of None?\n",
    "11. What does the sentence import areallyourpetsnamederic do?\n",
    "12. If you had a bacon() feature in a spam module, what would you call it after importing spam?\n",
    "13. What can you do to save a programme from crashing if it encounters an error?\n",
    "14. What is the purpose of the try clause? What is the purpose of the except clause?\n",
    "\n"
   ]
  },
  {
   "cell_type": "markdown",
   "id": "d4fccc36",
   "metadata": {},
   "source": [
    "***1. Why are functions advantageous to have in your programs?***"
   ]
  },
  {
   "cell_type": "markdown",
   "id": "3b582daa",
   "metadata": {},
   "source": [
    "***Answer:-*** A Function Can be defined as a collection of statements that performs given task. Function Advantages:- Reusability, Eliminates redundancy or duplication, Reduces size or length of a program, maintains modular structure of a program."
   ]
  },
  {
   "cell_type": "markdown",
   "id": "e1ef4bcb",
   "metadata": {},
   "source": [
    "***2. When does the code in a function run: when it's specified or when it's called?***"
   ]
  },
  {
   "cell_type": "markdown",
   "id": "f74ba8ba",
   "metadata": {},
   "source": [
    "***ANSWER:-***  The code in function only run when it will be called explicitly"
   ]
  },
  {
   "cell_type": "markdown",
   "id": "7384219f",
   "metadata": {},
   "source": [
    "***3. What statement creates a function?***"
   ]
  },
  {
   "cell_type": "markdown",
   "id": "ae481930",
   "metadata": {},
   "source": [
    "***Answer:-***  ``def function():``\n",
    "\n",
    "                      \n",
    "                          \n",
    "          here def statement create function,after def we write the name of the function and inside (arugment)"
   ]
  },
  {
   "cell_type": "markdown",
   "id": "d9f81702",
   "metadata": {},
   "source": [
    "***4. What is the difference between a function and a function call?***"
   ]
  },
  {
   "cell_type": "markdown",
   "id": "526f861f",
   "metadata": {},
   "source": [
    "***ANSWER:-***  A function is a block of code that does a particular operation and returns a result. It usually accepts inputs as parameters and returns a result. The parameters are not mandatory.\n",
    "\n",
    "E.g:\n",
    "def add(a,b)\n",
    "\n",
    "    return a+ b\n",
    "\n",
    "A function call is the code used to pass control to a function.\n",
    "\n",
    "E.g.:\n",
    "\n",
    "b = add(5,6)\n",
    "\n",
    "Now b will have the value 11."
   ]
  },
  {
   "cell_type": "markdown",
   "id": "80ed520d",
   "metadata": {},
   "source": [
    "***5. How many global scopes are there in a Python program? How many local scopes?***"
   ]
  },
  {
   "cell_type": "markdown",
   "id": "3d64102e",
   "metadata": {},
   "source": [
    "\n",
    "`Global Scope`\n",
    "There’s only one global Python scope per program execution. This scope remains in existence until the program terminates and all its names are forgotten. Otherwise, the next time you were to run the program, the names would remember their values from the previous run.\n",
    "\n",
    "`local scope` local scope is created whenever a function is called"
   ]
  },
  {
   "cell_type": "markdown",
   "id": "8b63fe8d",
   "metadata": {},
   "source": [
    "***6. What happens to variables in a local scope when the function call returns?***"
   ]
  },
  {
   "cell_type": "markdown",
   "id": "6db288ed",
   "metadata": {},
   "source": [
    "***ANSWER:-*** The local variable destroyed after function returns, and all the variables in it are forgotten"
   ]
  },
  {
   "cell_type": "markdown",
   "id": "4637a6df",
   "metadata": {},
   "source": [
    "***7. What is the concept of a return value? Is it possible to have a return value in an expression?***"
   ]
  },
  {
   "cell_type": "markdown",
   "id": "b12ba6c5",
   "metadata": {},
   "source": [
    "***ANSWER:-*** A return value is the value that a function call evaluates to. Like any value, a return value can be used as part of an expression."
   ]
  },
  {
   "cell_type": "markdown",
   "id": "59506747",
   "metadata": {},
   "source": [
    "***8. If a function does not have a return statement, what is the return value of a call to that function?***"
   ]
  },
  {
   "cell_type": "markdown",
   "id": "7ee366e0",
   "metadata": {},
   "source": [
    "if there is no return statement in function its will return `None`"
   ]
  },
  {
   "cell_type": "markdown",
   "id": "f4f505b8",
   "metadata": {},
   "source": [
    "***9. How do you make a function variable refer to the global variable***"
   ]
  },
  {
   "cell_type": "markdown",
   "id": "c873d8e8",
   "metadata": {},
   "source": [
    "***ANSWER:-***A global statement will force a variable in a function to refer to the global variable. If you want to refer to a global variable in a function, you can use the global keyword to declare which variables are global."
   ]
  },
  {
   "cell_type": "markdown",
   "id": "8bded404",
   "metadata": {},
   "source": [
    "***10.What is the data type of None?***"
   ]
  },
  {
   "cell_type": "markdown",
   "id": "73cdd4fd",
   "metadata": {},
   "source": [
    "***ANSWER***:- The data type of None is `NoneType`"
   ]
  },
  {
   "cell_type": "markdown",
   "id": "c56532f9",
   "metadata": {},
   "source": [
    "***11.What does the sentence import areallyourpetsnamederic do?***"
   ]
  },
  {
   "cell_type": "markdown",
   "id": "c84f0f90",
   "metadata": {},
   "source": [
    "***ANSWER:-*** That import statement imports a module named areallyourpetsnamederic."
   ]
  },
  {
   "cell_type": "markdown",
   "id": "0923f9f0",
   "metadata": {},
   "source": [
    "\n",
    "***12. If you had a bacon() feature in a spam module, what would you call it after importing spam?***"
   ]
  },
  {
   "cell_type": "markdown",
   "id": "fa265705",
   "metadata": {},
   "source": [
    "***ANSWER:-***\n",
    "               `spam.bacon`"
   ]
  },
  {
   "cell_type": "markdown",
   "id": "026bc873",
   "metadata": {},
   "source": [
    "***13. What can you do to save a programme from crashing if it encounters an error?***\n",
    "\n",
    "\n"
   ]
  },
  {
   "cell_type": "markdown",
   "id": "7dcc7d59",
   "metadata": {},
   "source": [
    "***ANSWER:-*** To save the program from crashing we use `Exception Handling` where we write our code in `try:` block and\n",
    "                handle the exception in `except:` block"
   ]
  },
  {
   "cell_type": "markdown",
   "id": "8ee73244",
   "metadata": {},
   "source": [
    "***14. What is the purpose of the try clause? What is the purpose of the except clause?***\n",
    "\n"
   ]
  },
  {
   "cell_type": "markdown",
   "id": "35ae18a8",
   "metadata": {},
   "source": [
    "***ANSWER:-*** The purpose of try block is to write the potential error code in this block so we can hadle it later in except block without crashing the code "
   ]
  },
  {
   "cell_type": "code",
   "execution_count": null,
   "id": "7f9ebaab",
   "metadata": {},
   "outputs": [],
   "source": []
  },
  {
   "cell_type": "code",
   "execution_count": null,
   "id": "e7cee9d2",
   "metadata": {},
   "outputs": [],
   "source": []
  }
 ],
 "metadata": {
  "kernelspec": {
   "display_name": "Python 3 (ipykernel)",
   "language": "python",
   "name": "python3"
  },
  "language_info": {
   "codemirror_mode": {
    "name": "ipython",
    "version": 3
   },
   "file_extension": ".py",
   "mimetype": "text/x-python",
   "name": "python",
   "nbconvert_exporter": "python",
   "pygments_lexer": "ipython3",
   "version": "3.9.13"
  },
  "toc": {
   "base_numbering": 1,
   "nav_menu": {},
   "number_sections": true,
   "sideBar": true,
   "skip_h1_title": false,
   "title_cell": "Table of Contents",
   "title_sidebar": "Contents",
   "toc_cell": false,
   "toc_position": {},
   "toc_section_display": true,
   "toc_window_display": false
  },
  "varInspector": {
   "cols": {
    "lenName": 16,
    "lenType": 16,
    "lenVar": 40
   },
   "kernels_config": {
    "python": {
     "delete_cmd_postfix": "",
     "delete_cmd_prefix": "del ",
     "library": "var_list.py",
     "varRefreshCmd": "print(var_dic_list())"
    },
    "r": {
     "delete_cmd_postfix": ") ",
     "delete_cmd_prefix": "rm(",
     "library": "var_list.r",
     "varRefreshCmd": "cat(var_dic_list()) "
    }
   },
   "types_to_exclude": [
    "module",
    "function",
    "builtin_function_or_method",
    "instance",
    "_Feature"
   ],
   "window_display": false
  }
 },
 "nbformat": 4,
 "nbformat_minor": 5
}
